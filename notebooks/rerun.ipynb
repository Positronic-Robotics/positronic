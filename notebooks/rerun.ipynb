{
 "cells": [
  {
   "cell_type": "code",
   "execution_count": null,
   "metadata": {},
   "outputs": [],
   "source": [
    "import rerun as rr\n",
    "import numpy as np"
   ]
  },
  {
   "cell_type": "code",
   "execution_count": null,
   "metadata": {},
   "outputs": [],
   "source": [
    "print(rr.__version__)"
   ]
  },
  {
   "cell_type": "code",
   "execution_count": null,
   "metadata": {},
   "outputs": [],
   "source": [
    "import matplotlib.pyplot as plt"
   ]
  },
  {
   "cell_type": "code",
   "execution_count": null,
   "metadata": {},
   "outputs": [],
   "source": [
    "import sys\n",
    "import os\n",
    "\n",
    "parent_dir = os.path.abspath(os.path.join(os.path.dirname(\"__file__\"), \"..\"))\n",
    "if parent_dir not in sys.path:\n",
    "    print(parent_dir)\n",
    "    sys.path.append(parent_dir)"
   ]
  },
  {
   "cell_type": "code",
   "execution_count": null,
   "metadata": {},
   "outputs": [],
   "source": [
    "import geom"
   ]
  },
  {
   "cell_type": "markdown",
   "metadata": {},
   "source": [
    "---"
   ]
  },
  {
   "cell_type": "code",
   "execution_count": null,
   "metadata": {},
   "outputs": [],
   "source": [
    "rr.__version__"
   ]
  },
  {
   "cell_type": "markdown",
   "metadata": {},
   "source": [
    "_NB_: This works only on rerun 0.22.1"
   ]
  },
  {
   "cell_type": "code",
   "execution_count": null,
   "metadata": {},
   "outputs": [],
   "source": [
    "rec = rr.dataframe.load_recording('/Users/vertix/Downloads/noclip-sleep01.rrd')"
   ]
  },
  {
   "cell_type": "code",
   "execution_count": null,
   "metadata": {},
   "outputs": [],
   "source": [
    "# view = rec.view(index='log_time', contents='/target_position/translation/0:Scalar')\n",
    "view = rec.view(index='log_time', contents='/target_position/**')\n",
    "\n",
    "tab = view.select().read_all()\n",
    "df = tab.to_pandas()\n",
    "df[:7]"
   ]
  },
  {
   "cell_type": "code",
   "execution_count": null,
   "metadata": {},
   "outputs": [],
   "source": [
    "pos = []\n",
    "for i in range(len(df) // 7):\n",
    "    t, q = np.zeros(3), np.zeros(4)\n",
    "    log_time = None\n",
    "    for j in range(7):\n",
    "        rec = df.iloc[i * 7 + j]\n",
    "        log_time = rec['log_time'] if log_time is None else min(log_time, rec['log_time'])\n",
    "        for k in range(3):\n",
    "            name = f'/target_position/translation/{k}:Scalar'\n",
    "            if rec[name] is not None:\n",
    "                t[k] = rec[name]\n",
    "        for k in range(4):\n",
    "            name = f'/target_position/quat/{k}:Scalar'\n",
    "            if rec[name] is not None:\n",
    "                q[k] = rec[name]\n",
    "    pos.append((log_time.value // 10 ** 6, geom.Transform3D(t, geom.Rotation.from_quat(q))))"
   ]
  },
  {
   "cell_type": "code",
   "execution_count": null,
   "metadata": {},
   "outputs": [],
   "source": [
    "import pickle\n",
    "with open('pos_data.pkl', 'wb') as f:\n",
    "    pickle.dump(pos, f)"
   ]
  },
  {
   "cell_type": "code",
   "execution_count": null,
   "metadata": {},
   "outputs": [],
   "source": [
    "# rec = rr.dataframe.load_recording('/Users/vertix/Downloads/bad_ik.rrd')\n",
    "rec = rr.dataframe.load_recording('/Users/vertix/Downloads/more-step-limits.rrd')\n",
    "view = rec.view(index='time', contents='/target_position/**')\n",
    "\n",
    "tab = view.select().read_all()\n",
    "df = tab.to_pandas()\n",
    "df[:7]"
   ]
  },
  {
   "cell_type": "code",
   "execution_count": null,
   "metadata": {},
   "outputs": [],
   "source": [
    "rec['/target_position/translation:Scalar']"
   ]
  },
  {
   "cell_type": "markdown",
   "metadata": {},
   "source": [
    "---"
   ]
  },
  {
   "cell_type": "code",
   "execution_count": null,
   "metadata": {},
   "outputs": [],
   "source": [
    "import mujoco\n",
    "import scipy.optimize\n",
    "from cvxopt import matrix, solvers\n",
    "\n",
    "\n",
    "_MAX_ANGLE_CHANGE = np.deg2rad(45)\n",
    "_DAMPING_COEFF = 1e-12\n",
    "\n",
    "def _wrap_joint_angle(q, q_base):\n",
    "    return q_base + np.mod(q - q_base + np.pi, 2 * np.pi) - np.pi\n",
    "\n",
    "\n",
    "class KinematicsSolver:\n",
    "    \"\"\"Solves forward and inverse kinematics for the Kinova arm.\"\"\"\n",
    "\n",
    "    def __init__(self, ee_offset=0.0):\n",
    "        self.model = mujoco.MjModel.from_xml_path('/Users/vertix/Documents/positronic/positronic/drivers/roboarm/kinova/gen3.xml')\n",
    "        self.data = mujoco.MjData(self.model)\n",
    "        self.model.body_gravcomp[:] = 1.0\n",
    "\n",
    "        # Cache references\n",
    "        # self.qpos0 = self.model.key('retract').qpos  # TODO: Is it good for IK null space?\n",
    "        self.qpos0 = np.zeros(7) # TODO: Is it good for IK null space?\n",
    "        self.site_id = self.model.site('pinch_site').id\n",
    "        self.site_pos = self.data.site(self.site_id).xpos\n",
    "        self.site_mat = self.data.site(self.site_id).xmat\n",
    "\n",
    "        # Add end effector offset for gripper\n",
    "        # 0.061525 comes from the Kinova URDF\n",
    "        self.model.site(self.site_id).pos = np.array([0.0, 0.0, -0.061525 - ee_offset])\n",
    "\n",
    "        # Preallocate arrays\n",
    "        self.err = np.empty(6)\n",
    "        self.err_pos, self.err_rot = self.err[:3], self.err[3:]\n",
    "        self.site_quat = np.empty(4)\n",
    "        self.site_quat_inv = np.empty(4)\n",
    "        self.err_quat = np.empty(4)\n",
    "        self.jac = np.empty((6, self.model.nv))\n",
    "        self.jac_pos, self.jac_rot = self.jac[:3], self.jac[3:]\n",
    "        self.damping = _DAMPING_COEFF * np.eye(6)\n",
    "        self.eye = np.eye(self.model.nv)\n",
    "\n",
    "        limits = self.model.jnt_range[:self.model.nq]\n",
    "        self.joint_limits_lower, self.joint_limits_upper = limits[:, 0], limits[:, 1]\n",
    "        self.joint_limits_lower = np.where(self.joint_limits_lower == 0, -100 * np.pi, self.joint_limits_lower)\n",
    "        self.joint_limits_upper = np.where(self.joint_limits_upper == 0, 100 * np.pi, self.joint_limits_upper)\n",
    "\n",
    "    def forward(self, qpos):\n",
    "        self.data.qpos = qpos\n",
    "        mujoco.mj_kinematics(self.model, self.data)\n",
    "        mujoco.mj_comPos(self.model, self.data)\n",
    "\n",
    "        pos = self.data.site(self.site_id).xpos.copy()\n",
    "        mat = self.data.site(self.site_id).xmat.copy()\n",
    "        quat = np.empty(4)\n",
    "        mujoco.mju_mat2Quat(quat, mat)\n",
    "        return geom.Transform3D(pos, geom.Rotation.from_quat(quat))\n",
    "\n",
    "    def inverse(self, pos: geom.Transform3D, qpos0: np.ndarray, max_iters: int = 20, err_thresh: float = 1e-4, clip_joints: bool = True):\n",
    "        self.data.qpos = qpos0\n",
    "        qpos0_err = np.zeros(self.model.nv)\n",
    "        last_update = np.zeros(self.model.nv)\n",
    "        last_null_update = np.zeros(self.model.nv)\n",
    "\n",
    "        iter = 0\n",
    "        for i in range(max_iters):\n",
    "            mujoco.mj_kinematics(self.model, self.data)\n",
    "            mujoco.mj_comPos(self.model, self.data)\n",
    "\n",
    "            # Translational error\n",
    "            self.err_pos[:] = pos.translation - self.site_pos\n",
    "\n",
    "            # Rotational error\n",
    "            mujoco.mju_mat2Quat(self.site_quat, self.site_mat)\n",
    "            mujoco.mju_negQuat(self.site_quat_inv, self.site_quat)\n",
    "            mujoco.mju_mulQuat(self.err_quat, pos.rotation.as_quat, self.site_quat_inv)\n",
    "            mujoco.mju_quat2Vel(self.err_rot, self.err_quat, 1.0)\n",
    "\n",
    "            if np.linalg.norm(self.err) < err_thresh:\n",
    "                break\n",
    "\n",
    "            mujoco.mj_jacSite(self.model, self.data, self.jac_pos, self.jac_rot, self.site_id)\n",
    "            update = self.jac.T @ np.linalg.solve(self.jac @ self.jac.T + self.damping, self.err)\n",
    "            last_update += update.copy()\n",
    "            qpos0_err = np.mod(self.qpos0 - self.data.qpos + np.pi, 2 * np.pi) - np.pi\n",
    "            # qpos0_err[:3] = 0.0\n",
    "            # qpos0_err[4:] = 0.0\n",
    "            # qpos0_err *= 10\n",
    "            null_update = (self.eye -\n",
    "                           (self.jac.T @ np.linalg.pinv(self.jac @ self.jac.T + self.damping)) @ self.jac) @ qpos0_err\n",
    "            last_null_update += null_update.copy()\n",
    "\n",
    "            update += null_update\n",
    "\n",
    "            # Enforce max angle change\n",
    "            update_max = np.abs(update).max()\n",
    "            if update_max > _MAX_ANGLE_CHANGE:\n",
    "                update *= _MAX_ANGLE_CHANGE / update_max\n",
    "\n",
    "            # Apply update\n",
    "            mujoco.mj_integratePos(self.model, self.data.qpos, update, 1)\n",
    "            if clip_joints:\n",
    "                self.data.qpos[:] = np.clip(self.data.qpos, self.low, self.high)\n",
    "\n",
    "            iter += 1\n",
    "\n",
    "        rr.log('ik/iter', rr.Scalars(iter))\n",
    "        rr.log('ik/err', rr.Scalars(np.linalg.norm(self.err)))\n",
    "        rr.log('ik/err/pos', rr.Scalars(np.linalg.norm(self.err_pos)))\n",
    "        rr.log('ik/err/rot', rr.Scalars(np.linalg.norm(self.err_rot)))\n",
    "        rr.log('ik/qpos0_err', rr.Scalars(qpos0_err))\n",
    "        rr.log('ik/updates/main', rr.Scalars(last_update))\n",
    "        rr.log('ik/updates/null', rr.Scalars(last_null_update))\n",
    "\n",
    "        return self.data.qpos.copy()\n",
    "\n",
    "    def inverse_limits(self, pos: geom.Transform3D, qpos0: np.ndarray, max_iters: int = 20, err_thresh: float = 1e-4, clamp=False):\n",
    "        solvers.options['show_progress'] = False\n",
    "        def clamp_to_pi(x):\n",
    "            return np.mod(x + np.pi, 2 * np.pi) - np.pi\n",
    "\n",
    "        self.data.qpos = clamp_to_pi(qpos0) if clamp else qpos0\n",
    "\n",
    "        iter = 0\n",
    "        for i in range(max_iters):\n",
    "            rec = rr.dataframe.load_recording('/Users/vertix/Downloads/more-step-limits.rrd')\n",
    "            mujoco.mj_kinematics(self.model, self.data)\n",
    "            mujoco.mj_comPos(self.model, self.data)\n",
    "\n",
    "            # Translational error\n",
    "            self.err_pos[:] = pos.translation - self.site_pos\n",
    "\n",
    "            # Rotational error\n",
    "            mujoco.mju_mat2Quat(self.site_quat, self.site_mat)\n",
    "            mujoco.mju_negQuat(self.site_quat_inv, self.site_quat)\n",
    "            mujoco.mju_mulQuat(self.err_quat, pos.rotation.as_quat, self.site_quat_inv)\n",
    "            mujoco.mju_quat2Vel(self.err_rot, self.err_quat, 1.0)\n",
    "\n",
    "            if np.linalg.norm(self.err) < err_thresh:\n",
    "                break\n",
    "\n",
    "            # Get Jacobian\n",
    "            mujoco.mj_jacSite(self.model, self.data, self.jac_pos, self.jac_rot, self.site_id)\n",
    "\n",
    "            # Setup QP problem\n",
    "            # min_x (1/2) x^T P x + q^T x\n",
    "            # s.t. G x <= h\n",
    "            #      A x = b\n",
    "\n",
    "            # Objective: min ||J·Δq - e||² + α||Δq - (q₀ - q)||²\n",
    "            # where α is a small weight for the null space objective\n",
    "            alpha = 1e-9\n",
    "            n = self.model.nv\n",
    "\n",
    "            # P = J^T J + α I\n",
    "            P = self.jac.T @ self.jac + alpha * np.eye(n)\n",
    "            P = matrix(P)\n",
    "\n",
    "            # q = -J^T e - α (q₀ - q)\n",
    "            qpos0_err = np.mod(self.qpos0 - self.data.qpos + np.pi, 2 * np.pi) - np.pi\n",
    "            q = -self.jac.T @ self.err - alpha * qpos0_err\n",
    "            q = matrix(q)\n",
    "\n",
    "            # Joint limit constraints: lb - q <= Δq <= ub - q\n",
    "            # Rewrite as:\n",
    "            # Δq <= ub - q\n",
    "            # -Δq <= q - lb\n",
    "\n",
    "            # G = [I; -I]\n",
    "            G = np.vstack([np.eye(n), -np.eye(n)])\n",
    "            G = matrix(G)\n",
    "\n",
    "            # h = [ub - q; q - lb]\n",
    "            h_upper = self.joint_limits_upper - self.data.qpos\n",
    "            h_lower = self.data.qpos - self.joint_limits_lower\n",
    "            h = np.concatenate([h_upper, h_lower])\n",
    "            h = matrix(h)\n",
    "\n",
    "            # No equality constraints\n",
    "            A = matrix(0.0, (0, n))\n",
    "            b = matrix(0.0, (0, 1))\n",
    "\n",
    "            solution = solvers.qp(P, q, G, h, A, b)\n",
    "            update = np.array(solution['x']).flatten()\n",
    "            # else:\n",
    "            #     # If QP fails, use a small damped least squares step as fallback\n",
    "            #     damping = _DAMPING_COEFF * 10 * np.eye(6)\n",
    "            #     update = self.jac.T @ np.linalg.solve(self.jac @ self.jac.T + damping, self.err)\n",
    "            #     update_max = np.abs(update).max()\n",
    "            #     if update_max > _MAX_ANGLE_CHANGE * 0.5:\n",
    "            #         update *= (_MAX_ANGLE_CHANGE * 0.5) / update_max\n",
    "\n",
    "            mujoco.mj_integratePos(self.model, self.data.qpos, update, 1.0)\n",
    "            self.data.qpos = clamp_to_pi(self.data.qpos) if clamp else self.data.qpos\n",
    "\n",
    "            iter += 1\n",
    "\n",
    "        rr.log('ik/iter', rr.Scalars(iter))\n",
    "        rr.log('ik/err', rr.Scalars(np.linalg.norm(self.err)))\n",
    "        rr.log('ik/err/pos', rr.Scalars(np.linalg.norm(self.err_pos)))\n",
    "        rr.log('ik/err/rot', rr.Scalars(np.linalg.norm(self.err_rot)))\n",
    "        return self.data.qpos.copy()\n"
   ]
  },
  {
   "cell_type": "code",
   "execution_count": null,
   "metadata": {},
   "outputs": [],
   "source": [
    "import rerun as rr\n",
    "rr.__version__"
   ]
  },
  {
   "cell_type": "code",
   "execution_count": null,
   "metadata": {},
   "outputs": [],
   "source": [
    "import math\n",
    "from ruckig import InputParameter, OutputParameter, Result, Ruckig\n",
    "import pinocchio as pin\n",
    "\n",
    "K_r = np.diag([0.3, 0.3, 0.3, 0.3, 0.18, 0.18, 0.18])\n",
    "K_l = np.diag([75.0, 75.0, 75.0, 75.0, 40.0, 40.0, 40.0])\n",
    "K_lp = np.diag([5.0, 5.0, 5.0, 5.0, 4.0, 4.0, 4.0])\n",
    "K_p = np.diag([100.0, 100.0, 100.0, 100.0, 50.0, 50.0, 50.0])\n",
    "K_d = np.diag([3.0, 3.0, 3.0, 3.0, 2.0, 2.0, 2.0])\n",
    "K_r_inv = np.linalg.inv(K_r)\n",
    "K_r_K_l = K_r @ K_l\n",
    "_DT = 0.001\n",
    "\n",
    "class JointCompliantController:\n",
    "    \"\"\"Implements compliant joint control for the Kinova arm.\"\"\"\n",
    "\n",
    "    class LowPassFilter:\n",
    "        \"\"\"Simple low-pass filter implementation.\"\"\"\n",
    "\n",
    "        def __init__(self, alpha, initial_value):\n",
    "            assert 0 < alpha <= 1, 'Alpha must be between 0 and 1'\n",
    "            self.alpha = alpha\n",
    "            self.y = initial_value\n",
    "\n",
    "        def filter(self, x):\n",
    "            self.y = self.alpha * x + (1 - self.alpha) * self.y\n",
    "            return self.y\n",
    "\n",
    "    def __init__(self, actuator_count, relative_dynamics_factor=0.5):\n",
    "        self.q_s = None\n",
    "        self.q_d = None\n",
    "        self.dq_d = None\n",
    "        self.q_n = None\n",
    "        self.dq_n = None\n",
    "        self.tau_filter = None\n",
    "\n",
    "        self.actuator_count = actuator_count\n",
    "        self.otg = None\n",
    "        self.otg_inp = None\n",
    "        self.otg_out = None\n",
    "        self.otg_res = None\n",
    "        self.relative_dynamics_factor = relative_dynamics_factor\n",
    "\n",
    "        self.target_qpos = None\n",
    "\n",
    "        # Initialize pinocchio model and data\n",
    "        self.model = pin.buildModelFromUrdf('/Users/vertix/Documents/positronic/positronic/drivers/roboarm/kinova/model.urdf')\n",
    "        self.data = self.model.createData()\n",
    "        self._q_pin = np.zeros(11)\n",
    "\n",
    "    def set_target_qpos(self, qpos):\n",
    "        self.target_qpos = qpos\n",
    "\n",
    "    @property\n",
    "    def finished(self):\n",
    "        return self.otg_res == Result.Finished\n",
    "\n",
    "    def gravity(self, q):\n",
    "        q_pin = self._q_pin  # Reuse pre-allocated q_pin\n",
    "        q_pin[0], q_pin[1], q_pin[2] = math.cos(q[0]), math.sin(q[0]), q[1]\n",
    "        q_pin[3], q_pin[4], q_pin[5] = math.cos(q[2]), math.sin(q[2]), q[3]\n",
    "        q_pin[6], q_pin[7], q_pin[8] = math.cos(q[4]), math.sin(q[4]), q[5]\n",
    "        q_pin[9], q_pin[10] = math.cos(q[6]), math.sin(q[6])\n",
    "        return pin.computeGeneralizedGravity(self.model, self.data, q_pin)\n",
    "\n",
    "    def compute_torque(self, q, dq, tau):\n",
    "        gravity = self.gravity(q)\n",
    "\n",
    "        # Initialize controller state if needed\n",
    "        if self.q_s is None:\n",
    "            self.q_s = q.copy()\n",
    "            self.q_d = q.copy()\n",
    "            self.dq_d = np.zeros_like(q)\n",
    "            self.q_n = q.copy()\n",
    "            self.dq_n = dq.copy()\n",
    "            self.tau_filter = JointCompliantController.LowPassFilter(0.01, tau.copy())\n",
    "\n",
    "            self.otg = Ruckig(self.actuator_count, _DT)\n",
    "            self.otg_inp = InputParameter(self.actuator_count)\n",
    "            self.otg_out = OutputParameter(self.actuator_count)\n",
    "            self.otg_inp.max_velocity = (4 * [math.radians(80 * self.relative_dynamics_factor)] +\n",
    "                                         3 * [math.radians(140 * self.relative_dynamics_factor)])\n",
    "            self.otg_inp.max_acceleration = (4 * [math.radians(240 * self.relative_dynamics_factor)] +\n",
    "                                             3 * [math.radians(450 * self.relative_dynamics_factor)])\n",
    "            self.otg_inp.current_position = q.copy()\n",
    "            self.otg_inp.current_velocity = dq.copy()\n",
    "            self.otg_inp.target_position = q.copy()\n",
    "            self.otg_inp.target_velocity = np.zeros(self.actuator_count)\n",
    "            self.otg_res = Result.Finished\n",
    "\n",
    "        self.q_s = _wrap_joint_angle(q, self.q_s)\n",
    "        dq_s = dq.copy()  # TODO: It seems that we don't need copy here\n",
    "        tau_s_f = self.tau_filter.filter(tau)\n",
    "\n",
    "        if self.target_qpos is not None:\n",
    "            qpos = _wrap_joint_angle(self.target_qpos, self.q_s)\n",
    "            self.otg_inp.target_position = qpos\n",
    "            self.otg_res = Result.Working\n",
    "\n",
    "            self.target_qpos = None\n",
    "\n",
    "        if self.otg_res == Result.Working:\n",
    "            self.otg_res = self.otg.update(self.otg_inp, self.otg_out)\n",
    "            self.otg_out.pass_to_input(self.otg_inp)\n",
    "            self.q_d[:] = self.otg_out.new_position\n",
    "            self.dq_d[:] = self.otg_out.new_velocity\n",
    "\n",
    "        tau_task = -K_p @ (self.q_n - self.q_d) - K_d @ (self.dq_n - self.dq_d) + gravity\n",
    "\n",
    "        # Nominal motor plant\n",
    "        ddq_n = K_r_inv @ (tau_task - tau_s_f)\n",
    "        self.dq_n += ddq_n * _DT\n",
    "        self.q_n += self.dq_n * _DT\n",
    "\n",
    "        tau_f = K_r_K_l @ ((self.dq_n - dq_s) + K_lp @ (self.q_n - self.q_s))  # Nominal friction\n",
    "\n",
    "        return tau_task + tau_f"
   ]
  },
  {
   "cell_type": "markdown",
   "metadata": {},
   "source": [
    "---"
   ]
  },
  {
   "cell_type": "code",
   "execution_count": null,
   "metadata": {},
   "outputs": [],
   "source": [
    "pos"
   ]
  },
  {
   "cell_type": "code",
   "execution_count": null,
   "metadata": {},
   "outputs": [],
   "source": [
    "import pickle\n",
    "with open('pos_data.pkl', 'rb') as f:\n",
    "    pos = pickle.load(f)"
   ]
  },
  {
   "cell_type": "code",
   "execution_count": null,
   "metadata": {},
   "outputs": [],
   "source": [
    "# q_start = np.array([0.0, -0.34906585, 3.14159265, -2, 0.0, 0, 1.57079633])\n",
    "# q_start = np.array([-0.7, -0, 0.5, -1.5, 0.0, -0.5, 1.57079633])\n",
    "\n",
    "torque_constant = np.array([11.0, 11.0, 11.0, 11.0, 7.6, 7.6, 7.6])\n",
    "current_limit_max = np.array([10.0, 10.0, 10.0, 10.0, 6.0, 6.0, 6.0])\n",
    "tau_limit = torque_constant * current_limit_max"
   ]
  },
  {
   "cell_type": "code",
   "execution_count": null,
   "metadata": {},
   "outputs": [],
   "source": [
    "model = mujoco.MjModel.from_xml_path('/Users/vertix/Documents/positronic/positronic/drivers/roboarm/kinova/gen3.xml')"
   ]
  },
  {
   "cell_type": "code",
   "execution_count": null,
   "metadata": {},
   "outputs": [],
   "source": [
    "solver, controller = KinematicsSolver(), JointCompliantController(7)\n",
    "data = mujoco.MjData(model)"
   ]
  },
  {
   "cell_type": "code",
   "execution_count": null,
   "metadata": {},
   "outputs": [],
   "source": [
    "res = solver.inverse_limits(pos[0][1], q_start, max_iters=20)\n",
    "solver.err, np.linalg.norm(solver.err)"
   ]
  },
  {
   "cell_type": "code",
   "execution_count": null,
   "metadata": {},
   "outputs": [],
   "source": [
    "res = solver.inverse_limits(pos[0][1], q_start, max_iters=200, clamp=True)\n",
    "solver.err, np.linalg.norm(solver.err)"
   ]
  },
  {
   "cell_type": "code",
   "execution_count": null,
   "metadata": {},
   "outputs": [],
   "source": [
    "target_pos, pos[2][1]"
   ]
  },
  {
   "cell_type": "code",
   "execution_count": null,
   "metadata": {},
   "outputs": [],
   "source": [
    "solver.err, np.linalg.norm(solver.err)"
   ]
  },
  {
   "cell_type": "code",
   "execution_count": null,
   "metadata": {},
   "outputs": [],
   "source": [
    "rr.init('notebook_zero')\n",
    "rr.save('notebook.rrd')\n",
    "# rr.notebook_show(width=1200, height=600)\n",
    "\n",
    "renderer = mujoco.Renderer(model, height=480, width=640)\n",
    "renderer.update_scene(data, camera='viewer')\n",
    "\n",
    "tau = controller.gravity(q_start)\n",
    "data.qpos = q_start\n",
    "data.ctrl[:] = tau\n",
    "mujoco.mj_forward(model, data)\n",
    "\n",
    "tau_filter = JointCompliantController.LowPassFilter(0.1, tau)\n",
    "q, dq = data.qpos, data.qvel\n",
    "\n",
    "step, next_command = 0, 0\n",
    "start_time = pos[0][0] - 3 * 10 ** 3\n",
    "\n",
    "# rr.log('pos/target', rr.Points3D(np.array([p.translation for _, p in pos])), static=True)\n",
    "rr.log('ik/qpos', rr.SeriesPoints(markers=\"circle\", marker_sizes=1))\n",
    "rr.log('ik/updates/main', rr.SeriesPoints(markers=\"cross\", marker_sizes=1.0))\n",
    "rr.log('ik/updates/null', rr.SeriesPoints(markers=\"cross\", marker_sizes=1.0))\n",
    "\n",
    "while data.time < 60 and next_command < len(pos):\n",
    "    tau = controller.compute_torque(q, dq, tau)\n",
    "    np.clip(tau, -tau_limit, tau_limit, out=tau)\n",
    "    data.ctrl[:] = tau_filter.filter(tau)\n",
    "    mujoco.mj_step(model, data)\n",
    "    q, dq, tau = data.qpos, data.qvel, data.ctrl\n",
    "    rr.set_time_seconds('sim_time', data.time)\n",
    "\n",
    "    if start_time + data.time * 10 ** 3 > pos[next_command][0]:\n",
    "        rr.log('pos/target', rr.Points3D(np.array([p.translation for _, p in pos[:next_command + 1]])))\n",
    "        # q_ik = solver.inverse(pos[next_command][1], q, max_iters=10000)\n",
    "        q_ik = solver.inverse_limits(pos[next_command][1], q, max_iters=100)\n",
    "        rr.log('ik/qpos', rr.Scalars(q_ik))\n",
    "        rr.log('pos/cur_target', rr.Points3D(pos[next_command][1].translation, colors=[255, 255, 255]))\n",
    "        controller.set_target_qpos(q_ik)\n",
    "        next_command += 1\n",
    "\n",
    "    if step % 100 == 0:\n",
    "        rr.log('state/qpos', rr.Scalars(q))\n",
    "        rr.log('state/qvel', rr.Scalars(dq))\n",
    "        rr.log('state/tau', rr.Scalars(tau))\n",
    "        renderer.update_scene(data, camera='viewer')\n",
    "        rr.log('render', rr.Image(renderer.render()).compress())\n",
    "    step += 1"
   ]
  },
  {
   "cell_type": "markdown",
   "metadata": {},
   "source": [
    "---\n",
    "Research IK solution for the last \"blocking\" joint"
   ]
  },
  {
   "cell_type": "code",
   "execution_count": null,
   "metadata": {},
   "outputs": [],
   "source": [
    "ik_solutions = []\n",
    "target = pos[-1][1]\n",
    "\n",
    "low, high = solver.model.jnt_range[:solver.model.nq, 0], solver.model.jnt_range[:solver.model.nq, 1]\n",
    "low = np.where(low == 0, -np.pi, low)\n",
    "high = np.where(high == 0, np.pi, high)\n",
    "\n",
    "for i in range(1000):\n",
    "    q = np.random.uniform(low, high)\n",
    "    q_ik = solver.inverse_limits(target, q)\n",
    "    err = np.linalg.norm(solver.forward(q_ik).translation - target.translation)\n",
    "    ik_solutions.append((q_ik, err))"
   ]
  },
  {
   "cell_type": "code",
   "execution_count": null,
   "metadata": {},
   "outputs": [],
   "source": [
    "rr.init('ik_solutions')\n",
    "rr.notebook_show()\n",
    "scatter = rr.Points2D(\n",
    "    [[np.abs(solution[3]), err] for solution, err in ik_solutions],\n",
    "    colors=[255, 255, 255],\n",
    ")\n",
    "rr.log('ik_solutions/scatter', scatter, static=True)\n",
    "\n",
    "for i, (solution, err) in enumerate(sorted(ik_solutions, key=lambda x: np.abs(x[0][3]))):\n",
    "    rr.set_time_sequence('ik_solutions', i)\n",
    "    rr.log('ik_solutions/qpos', rr.Scalars(np.abs(solution[3])))"
   ]
  },
  {
   "cell_type": "code",
   "execution_count": null,
   "metadata": {},
   "outputs": [],
   "source": [
    "sorted(ik_solutions, key=lambda x: np.abs(x[0][3]))[0]"
   ]
  },
  {
   "cell_type": "code",
   "execution_count": null,
   "metadata": {},
   "outputs": [],
   "source": [
    "high"
   ]
  },
  {
   "cell_type": "markdown",
   "metadata": {},
   "source": [
    "---"
   ]
  },
  {
   "cell_type": "code",
   "execution_count": null,
   "metadata": {},
   "outputs": [],
   "source": [
    "rec = rr.dataframe.load_recording('/Users/vertix/Downloads/more-step-limits.rrd')\n",
    "rec.view(index='time', contents='/ik/**').select().read_all().to_pandas()"
   ]
  },
  {
   "cell_type": "code",
   "execution_count": null,
   "metadata": {},
   "outputs": [],
   "source": [
    "rec = rr.dataframe.load_recording('/Users/vertix/Downloads/more-step-limits.rrd')\n",
    "rec.view(index='time', contents='/target_joints/**').select().read_all().to_pandas()"
   ]
  },
  {
   "cell_type": "code",
   "execution_count": null,
   "metadata": {},
   "outputs": [],
   "source": [
    "rec = rr.dataframe.load_recording('/Users/vertix/Downloads/more-step-limits.rrd')\n",
    "view = rec.view(index='time', contents='/target_position/**')\n",
    "\n",
    "tab = view.select().read_all()\n",
    "df = tab.to_pandas()\n",
    "pos = []\n",
    "\n",
    "for i in range(len(df)):\n",
    "    rec = df.iloc[i]\n",
    "    _translation = rec['/target_position/translation:Scalar']\n",
    "    _rotation = rec['/target_position/quat:Scalar']\n",
    "    pos.append((rec['log_time'].value // 10 ** 6, geom.Transform3D(_translation, geom.Rotation.from_quat(_rotation))))\n",
    "\n",
    "rec = rr.dataframe.load_recording('/Users/vertix/Downloads/more-step-limits.rrd')\n",
    "view = rec.view(index='time', contents='/current_joints/**')\n",
    "\n",
    "tab = view.select().read_all()\n",
    "df = tab.to_pandas()\n",
    "q_start = df.iloc[0]['/current_joints:Scalar']\n",
    "pos[0][1], q_start"
   ]
  },
  {
   "cell_type": "code",
   "execution_count": null,
   "metadata": {},
   "outputs": [],
   "source": [
    "solver, controller = KinematicsSolver(), JointCompliantController(7)\n",
    "data = mujoco.MjData(model)"
   ]
  },
  {
   "cell_type": "code",
   "execution_count": null,
   "metadata": {},
   "outputs": [],
   "source": [
    "res = solver.inverse_limits(pos[0][1], q_start, max_iters=100)\n",
    "solver.err, np.linalg.norm(solver.err)"
   ]
  },
  {
   "cell_type": "code",
   "execution_count": null,
   "metadata": {},
   "outputs": [],
   "source": []
  }
 ],
 "metadata": {
  "kernelspec": {
   "display_name": ".venv",
   "language": "python",
   "name": "python3"
  },
  "language_info": {
   "codemirror_mode": {
    "name": "ipython",
    "version": 3
   },
   "file_extension": ".py",
   "mimetype": "text/x-python",
   "name": "python",
   "nbconvert_exporter": "python",
   "pygments_lexer": "ipython3",
   "version": "3.11.6"
  }
 },
 "nbformat": 4,
 "nbformat_minor": 2
}
