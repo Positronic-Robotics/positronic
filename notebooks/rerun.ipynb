{
 "cells": [
  {
   "cell_type": "code",
   "execution_count": 1,
   "metadata": {},
   "outputs": [],
   "source": [
    "import rerun as rr\n",
    "import numpy as np"
   ]
  },
  {
   "cell_type": "code",
   "execution_count": 2,
   "metadata": {},
   "outputs": [
    {
     "name": "stdout",
     "output_type": "stream",
     "text": [
      "0.23.1\n"
     ]
    }
   ],
   "source": [
    "print(rr.__version__)"
   ]
  },
  {
   "cell_type": "code",
   "execution_count": 3,
   "metadata": {},
   "outputs": [],
   "source": [
    "import matplotlib.pyplot as plt"
   ]
  },
  {
   "cell_type": "code",
   "execution_count": 4,
   "metadata": {},
   "outputs": [
    {
     "name": "stdout",
     "output_type": "stream",
     "text": [
      "/Users/vertix/Documents/positronic\n"
     ]
    }
   ],
   "source": [
    "import sys\n",
    "import os\n",
    "\n",
    "parent_dir = os.path.abspath(os.path.join(os.path.dirname(\"__file__\"), \"..\"))\n",
    "if parent_dir not in sys.path:\n",
    "    print(parent_dir)\n",
    "    sys.path.append(parent_dir)"
   ]
  },
  {
   "cell_type": "code",
   "execution_count": 5,
   "metadata": {},
   "outputs": [],
   "source": [
    "import geom"
   ]
  },
  {
   "cell_type": "markdown",
   "metadata": {},
   "source": [
    "---"
   ]
  },
  {
   "cell_type": "code",
   "execution_count": 113,
   "metadata": {},
   "outputs": [
    {
     "data": {
      "text/plain": [
       "'0.22.1'"
      ]
     },
     "execution_count": 113,
     "metadata": {},
     "output_type": "execute_result"
    }
   ],
   "source": [
    "rr.__version__"
   ]
  },
  {
   "cell_type": "markdown",
   "metadata": {},
   "source": [
    "_NB_: This works only on rerun 0.22.1"
   ]
  },
  {
   "cell_type": "code",
   "execution_count": 18,
   "metadata": {},
   "outputs": [],
   "source": [
    "rec = rr.dataframe.load_recording('/Users/vertix/Downloads/noclip-sleep01.rrd')"
   ]
  },
  {
   "cell_type": "code",
   "execution_count": 19,
   "metadata": {},
   "outputs": [
    {
     "data": {
      "text/html": [
       "<div>\n",
       "<style scoped>\n",
       "    .dataframe tbody tr th:only-of-type {\n",
       "        vertical-align: middle;\n",
       "    }\n",
       "\n",
       "    .dataframe tbody tr th {\n",
       "        vertical-align: top;\n",
       "    }\n",
       "\n",
       "    .dataframe thead th {\n",
       "        text-align: right;\n",
       "    }\n",
       "</style>\n",
       "<table border=\"1\" class=\"dataframe\">\n",
       "  <thead>\n",
       "    <tr style=\"text-align: right;\">\n",
       "      <th></th>\n",
       "      <th>log_tick</th>\n",
       "      <th>log_time</th>\n",
       "      <th>time</th>\n",
       "      <th>/target_position/quat/0:Scalar</th>\n",
       "      <th>/target_position/quat/1:Scalar</th>\n",
       "      <th>/target_position/quat/2:Scalar</th>\n",
       "      <th>/target_position/quat/3:Scalar</th>\n",
       "      <th>/target_position/translation/0:Scalar</th>\n",
       "      <th>/target_position/translation/1:Scalar</th>\n",
       "      <th>/target_position/translation/2:Scalar</th>\n",
       "    </tr>\n",
       "  </thead>\n",
       "  <tbody>\n",
       "    <tr>\n",
       "      <th>0</th>\n",
       "      <td>26</td>\n",
       "      <td>2025-04-24 11:58:24.485713221</td>\n",
       "      <td>1970-01-07 23:11:02.130752342</td>\n",
       "      <td>None</td>\n",
       "      <td>None</td>\n",
       "      <td>None</td>\n",
       "      <td>None</td>\n",
       "      <td>[-0.44832678620779814]</td>\n",
       "      <td>None</td>\n",
       "      <td>None</td>\n",
       "    </tr>\n",
       "    <tr>\n",
       "      <th>1</th>\n",
       "      <td>27</td>\n",
       "      <td>2025-04-24 11:58:24.485730008</td>\n",
       "      <td>1970-01-07 23:11:02.130752342</td>\n",
       "      <td>None</td>\n",
       "      <td>None</td>\n",
       "      <td>None</td>\n",
       "      <td>None</td>\n",
       "      <td>None</td>\n",
       "      <td>[-0.09162329866638404]</td>\n",
       "      <td>None</td>\n",
       "    </tr>\n",
       "    <tr>\n",
       "      <th>2</th>\n",
       "      <td>28</td>\n",
       "      <td>2025-04-24 11:58:24.485745555</td>\n",
       "      <td>1970-01-07 23:11:02.130752342</td>\n",
       "      <td>None</td>\n",
       "      <td>None</td>\n",
       "      <td>None</td>\n",
       "      <td>None</td>\n",
       "      <td>None</td>\n",
       "      <td>None</td>\n",
       "      <td>[0.6150578193737809]</td>\n",
       "    </tr>\n",
       "    <tr>\n",
       "      <th>3</th>\n",
       "      <td>29</td>\n",
       "      <td>2025-04-24 11:58:24.485767248</td>\n",
       "      <td>1970-01-07 23:11:02.130752342</td>\n",
       "      <td>[0.4092122514423892]</td>\n",
       "      <td>None</td>\n",
       "      <td>None</td>\n",
       "      <td>None</td>\n",
       "      <td>None</td>\n",
       "      <td>None</td>\n",
       "      <td>None</td>\n",
       "    </tr>\n",
       "    <tr>\n",
       "      <th>4</th>\n",
       "      <td>30</td>\n",
       "      <td>2025-04-24 11:58:24.485782575</td>\n",
       "      <td>1970-01-07 23:11:02.130752342</td>\n",
       "      <td>None</td>\n",
       "      <td>[0.620268046734036]</td>\n",
       "      <td>None</td>\n",
       "      <td>None</td>\n",
       "      <td>None</td>\n",
       "      <td>None</td>\n",
       "      <td>None</td>\n",
       "    </tr>\n",
       "    <tr>\n",
       "      <th>5</th>\n",
       "      <td>31</td>\n",
       "      <td>2025-04-24 11:58:24.485800572</td>\n",
       "      <td>1970-01-07 23:11:02.130752342</td>\n",
       "      <td>None</td>\n",
       "      <td>None</td>\n",
       "      <td>[-0.5985899177517305]</td>\n",
       "      <td>None</td>\n",
       "      <td>None</td>\n",
       "      <td>None</td>\n",
       "      <td>None</td>\n",
       "    </tr>\n",
       "    <tr>\n",
       "      <th>6</th>\n",
       "      <td>32</td>\n",
       "      <td>2025-04-24 11:58:24.485819022</td>\n",
       "      <td>1970-01-07 23:11:02.130752342</td>\n",
       "      <td>None</td>\n",
       "      <td>None</td>\n",
       "      <td>None</td>\n",
       "      <td>[-0.2991705096369931]</td>\n",
       "      <td>None</td>\n",
       "      <td>None</td>\n",
       "      <td>None</td>\n",
       "    </tr>\n",
       "  </tbody>\n",
       "</table>\n",
       "</div>"
      ],
      "text/plain": [
       "   log_tick                      log_time                          time  \\\n",
       "0        26 2025-04-24 11:58:24.485713221 1970-01-07 23:11:02.130752342   \n",
       "1        27 2025-04-24 11:58:24.485730008 1970-01-07 23:11:02.130752342   \n",
       "2        28 2025-04-24 11:58:24.485745555 1970-01-07 23:11:02.130752342   \n",
       "3        29 2025-04-24 11:58:24.485767248 1970-01-07 23:11:02.130752342   \n",
       "4        30 2025-04-24 11:58:24.485782575 1970-01-07 23:11:02.130752342   \n",
       "5        31 2025-04-24 11:58:24.485800572 1970-01-07 23:11:02.130752342   \n",
       "6        32 2025-04-24 11:58:24.485819022 1970-01-07 23:11:02.130752342   \n",
       "\n",
       "  /target_position/quat/0:Scalar /target_position/quat/1:Scalar  \\\n",
       "0                           None                           None   \n",
       "1                           None                           None   \n",
       "2                           None                           None   \n",
       "3           [0.4092122514423892]                           None   \n",
       "4                           None            [0.620268046734036]   \n",
       "5                           None                           None   \n",
       "6                           None                           None   \n",
       "\n",
       "  /target_position/quat/2:Scalar /target_position/quat/3:Scalar  \\\n",
       "0                           None                           None   \n",
       "1                           None                           None   \n",
       "2                           None                           None   \n",
       "3                           None                           None   \n",
       "4                           None                           None   \n",
       "5          [-0.5985899177517305]                           None   \n",
       "6                           None          [-0.2991705096369931]   \n",
       "\n",
       "  /target_position/translation/0:Scalar /target_position/translation/1:Scalar  \\\n",
       "0                [-0.44832678620779814]                                  None   \n",
       "1                                  None                [-0.09162329866638404]   \n",
       "2                                  None                                  None   \n",
       "3                                  None                                  None   \n",
       "4                                  None                                  None   \n",
       "5                                  None                                  None   \n",
       "6                                  None                                  None   \n",
       "\n",
       "  /target_position/translation/2:Scalar  \n",
       "0                                  None  \n",
       "1                                  None  \n",
       "2                  [0.6150578193737809]  \n",
       "3                                  None  \n",
       "4                                  None  \n",
       "5                                  None  \n",
       "6                                  None  "
      ]
     },
     "execution_count": 19,
     "metadata": {},
     "output_type": "execute_result"
    }
   ],
   "source": [
    "# view = rec.view(index='log_time', contents='/target_position/translation/0:Scalar')\n",
    "view = rec.view(index='log_time', contents='/target_position/**')\n",
    "\n",
    "tab = view.select().read_all()\n",
    "df = tab.to_pandas()\n",
    "df[:7]"
   ]
  },
  {
   "cell_type": "code",
   "execution_count": 90,
   "metadata": {},
   "outputs": [
    {
     "name": "stderr",
     "output_type": "stream",
     "text": [
      "/var/folders/_9/qtzgq1616qzb3mh1ly0jkf5h0000gn/T/ipykernel_6742/3964283900.py:11: DeprecationWarning: Conversion of an array with ndim > 0 to a scalar is deprecated, and will error in future. Ensure you extract a single element from your array before performing this operation. (Deprecated NumPy 1.25.)\n",
      "  t[k] = rec[name]\n",
      "/var/folders/_9/qtzgq1616qzb3mh1ly0jkf5h0000gn/T/ipykernel_6742/3964283900.py:15: DeprecationWarning: Conversion of an array with ndim > 0 to a scalar is deprecated, and will error in future. Ensure you extract a single element from your array before performing this operation. (Deprecated NumPy 1.25.)\n",
      "  q[k] = rec[name]\n"
     ]
    }
   ],
   "source": [
    "pos = []\n",
    "for i in range(len(df) // 7):\n",
    "    t, q = np.zeros(3), np.zeros(4)\n",
    "    log_time = None\n",
    "    for j in range(7):\n",
    "        rec = df.iloc[i * 7 + j]\n",
    "        log_time = rec['log_time'] if log_time is None else min(log_time, rec['log_time'])\n",
    "        for k in range(3):\n",
    "            name = f'/target_position/translation/{k}:Scalar'\n",
    "            if rec[name] is not None:\n",
    "                t[k] = rec[name]\n",
    "        for k in range(4):\n",
    "            name = f'/target_position/quat/{k}:Scalar'\n",
    "            if rec[name] is not None:\n",
    "                q[k] = rec[name]\n",
    "    pos.append((log_time.value // 10 ** 6, geom.Transform3D(t, geom.Rotation.from_quat(q))))"
   ]
  },
  {
   "cell_type": "code",
   "execution_count": 116,
   "metadata": {},
   "outputs": [],
   "source": [
    "import pickle\n",
    "with open('pos_data.pkl', 'wb') as f:\n",
    "    pickle.dump(pos, f)"
   ]
  },
  {
   "cell_type": "code",
   "execution_count": 77,
   "metadata": {},
   "outputs": [
    {
     "data": {
      "text/html": [
       "<div>\n",
       "<style scoped>\n",
       "    .dataframe tbody tr th:only-of-type {\n",
       "        vertical-align: middle;\n",
       "    }\n",
       "\n",
       "    .dataframe tbody tr th {\n",
       "        vertical-align: top;\n",
       "    }\n",
       "\n",
       "    .dataframe thead th {\n",
       "        text-align: right;\n",
       "    }\n",
       "</style>\n",
       "<table border=\"1\" class=\"dataframe\">\n",
       "  <thead>\n",
       "    <tr style=\"text-align: right;\">\n",
       "      <th></th>\n",
       "      <th>log_tick</th>\n",
       "      <th>log_time</th>\n",
       "      <th>time</th>\n",
       "      <th>/target_position/quat/0:Scalar</th>\n",
       "      <th>/target_position/quat/1:Scalar</th>\n",
       "      <th>/target_position/quat/2:Scalar</th>\n",
       "      <th>/target_position/quat/3:Scalar</th>\n",
       "      <th>/target_position/translation/0:Scalar</th>\n",
       "      <th>/target_position/translation/1:Scalar</th>\n",
       "      <th>/target_position/translation/2:Scalar</th>\n",
       "    </tr>\n",
       "  </thead>\n",
       "  <tbody>\n",
       "    <tr>\n",
       "      <th>0</th>\n",
       "      <td>34</td>\n",
       "      <td>2025-04-28 10:32:14.895791424</td>\n",
       "      <td>1970-01-11 21:44:52.528681203</td>\n",
       "      <td>[0.21075188966866018]</td>\n",
       "      <td>[0.37430277137118084]</td>\n",
       "      <td>[0.8005263675293495]</td>\n",
       "      <td>[0.4178978478454434]</td>\n",
       "      <td>[0.3554664559208314]</td>\n",
       "      <td>[0.30942813376108386]</td>\n",
       "      <td>[0.6028371627778492]</td>\n",
       "    </tr>\n",
       "    <tr>\n",
       "      <th>1</th>\n",
       "      <td>69</td>\n",
       "      <td>2025-04-28 10:32:15.135568335</td>\n",
       "      <td>1970-01-11 21:44:53.013611605</td>\n",
       "      <td>[0.21213950733274697]</td>\n",
       "      <td>[0.3743169886408113]</td>\n",
       "      <td>[0.7992697949456528]</td>\n",
       "      <td>[0.41958481422765687]</td>\n",
       "      <td>[0.36011359126543624]</td>\n",
       "      <td>[0.3106354436200953]</td>\n",
       "      <td>[0.6002744944320596]</td>\n",
       "    </tr>\n",
       "    <tr>\n",
       "      <th>2</th>\n",
       "      <td>104</td>\n",
       "      <td>2025-04-28 10:32:15.361746169</td>\n",
       "      <td>1970-01-11 21:44:53.253237756</td>\n",
       "      <td>[0.21403820749080274]</td>\n",
       "      <td>[0.3729688805966309]</td>\n",
       "      <td>[0.7987591579316788]</td>\n",
       "      <td>[0.4207917150606259]</td>\n",
       "      <td>[0.36276128912106753]</td>\n",
       "      <td>[0.31151045257383464]</td>\n",
       "      <td>[0.5990191233771973]</td>\n",
       "    </tr>\n",
       "  </tbody>\n",
       "</table>\n",
       "</div>"
      ],
      "text/plain": [
       "   log_tick                      log_time                          time  \\\n",
       "0        34 2025-04-28 10:32:14.895791424 1970-01-11 21:44:52.528681203   \n",
       "1        69 2025-04-28 10:32:15.135568335 1970-01-11 21:44:53.013611605   \n",
       "2       104 2025-04-28 10:32:15.361746169 1970-01-11 21:44:53.253237756   \n",
       "\n",
       "  /target_position/quat/0:Scalar /target_position/quat/1:Scalar  \\\n",
       "0          [0.21075188966866018]          [0.37430277137118084]   \n",
       "1          [0.21213950733274697]           [0.3743169886408113]   \n",
       "2          [0.21403820749080274]           [0.3729688805966309]   \n",
       "\n",
       "  /target_position/quat/2:Scalar /target_position/quat/3:Scalar  \\\n",
       "0           [0.8005263675293495]           [0.4178978478454434]   \n",
       "1           [0.7992697949456528]          [0.41958481422765687]   \n",
       "2           [0.7987591579316788]           [0.4207917150606259]   \n",
       "\n",
       "  /target_position/translation/0:Scalar /target_position/translation/1:Scalar  \\\n",
       "0                  [0.3554664559208314]                 [0.30942813376108386]   \n",
       "1                 [0.36011359126543624]                  [0.3106354436200953]   \n",
       "2                 [0.36276128912106753]                 [0.31151045257383464]   \n",
       "\n",
       "  /target_position/translation/2:Scalar  \n",
       "0                  [0.6028371627778492]  \n",
       "1                  [0.6002744944320596]  \n",
       "2                  [0.5990191233771973]  "
      ]
     },
     "execution_count": 77,
     "metadata": {},
     "output_type": "execute_result"
    }
   ],
   "source": [
    "rec = rr.dataframe.load_recording('/Users/vertix/Downloads/bad_ik.rrd')\n",
    "view = rec.view(index='time', contents='/target_position/**')\n",
    "\n",
    "tab = view.select().read_all()\n",
    "df = tab.to_pandas()\n",
    "df[:7]"
   ]
  },
  {
   "cell_type": "code",
   "execution_count": 80,
   "metadata": {},
   "outputs": [
    {
     "data": {
      "text/plain": [
       "log_tick                                                           104\n",
       "log_time                                 2025-04-28 10:32:15.361746169\n",
       "time                                     1970-01-11 21:44:53.253237756\n",
       "/target_position/quat/0:Scalar                   [0.21403820749080274]\n",
       "/target_position/quat/1:Scalar                    [0.3729688805966309]\n",
       "/target_position/quat/2:Scalar                    [0.7987591579316788]\n",
       "/target_position/quat/3:Scalar                    [0.4207917150606259]\n",
       "/target_position/translation/0:Scalar            [0.36276128912106753]\n",
       "/target_position/translation/1:Scalar            [0.31151045257383464]\n",
       "/target_position/translation/2:Scalar             [0.5990191233771973]\n",
       "Name: 2, dtype: object"
      ]
     },
     "execution_count": 80,
     "metadata": {},
     "output_type": "execute_result"
    }
   ],
   "source": [
    "rec = df.iloc[2]\n",
    "rec"
   ]
  },
  {
   "cell_type": "code",
   "execution_count": 98,
   "metadata": {},
   "outputs": [],
   "source": [
    "pos = []\n",
    "\n",
    "for i in range(len(df)):\n",
    "    rec = df.iloc[i]\n",
    "    _translation = np.array([rec['/target_position/translation/0:Scalar'][0],\n",
    "                            rec['/target_position/translation/1:Scalar'][0],\n",
    "                            rec['/target_position/translation/2:Scalar'][0]])\n",
    "    _rotation = np.array([rec['/target_position/quat/0:Scalar'][0],\n",
    "                        rec['/target_position/quat/1:Scalar'][0],\n",
    "                        rec['/target_position/quat/2:Scalar'][0],\n",
    "                        rec['/target_position/quat/3:Scalar'][0]])\n",
    "\n",
    "    pos.append((rec['log_time'].value // 10 ** 6, geom.Transform3D(_translation, geom.Rotation.from_quat(_rotation))))"
   ]
  },
  {
   "cell_type": "code",
   "execution_count": 116,
   "metadata": {},
   "outputs": [
    {
     "data": {
      "text/plain": [
       "log_tick                                               27\n",
       "log_time                    2025-04-28 10:32:14.895495397\n",
       "time                        1970-01-11 21:44:52.528681203\n",
       "/current_joints/0:Scalar              [2.032611846923828]\n",
       "/current_joints/1:Scalar              [6.223275184631348]\n",
       "/current_joints/2:Scalar            [0.46841156482696533]\n",
       "/current_joints/3:Scalar              [4.742593288421631]\n",
       "/current_joints/4:Scalar              [6.230007648468018]\n",
       "/current_joints/5:Scalar              [5.709237575531006]\n",
       "/current_joints/6:Scalar             [1.6355599164962769]\n",
       "Name: 0, dtype: object"
      ]
     },
     "execution_count": 116,
     "metadata": {},
     "output_type": "execute_result"
    }
   ],
   "source": [
    "rec = rr.dataframe.load_recording('/Users/vertix/Downloads/bad_ik.rrd')\n",
    "view = rec.view(index='time', contents='/current_joints/**')\n",
    "\n",
    "tab = view.select().read_all()\n",
    "df = tab.to_pandas()\n",
    "df.iloc[0]"
   ]
  },
  {
   "cell_type": "code",
   "execution_count": 117,
   "metadata": {},
   "outputs": [
    {
     "data": {
      "text/plain": [
       "array([2.03261185, 6.22327518, 0.46841156, 4.74259329, 6.23000765,\n",
       "       5.70923758, 1.63555992])"
      ]
     },
     "execution_count": 117,
     "metadata": {},
     "output_type": "execute_result"
    }
   ],
   "source": [
    "q_start = np.array([df.iloc[0][f'/current_joints/{i}:Scalar'][0] for i in range(7)])\n",
    "q_start"
   ]
  },
  {
   "cell_type": "markdown",
   "metadata": {},
   "source": [
    "---"
   ]
  },
  {
   "cell_type": "code",
   "execution_count": 100,
   "metadata": {},
   "outputs": [],
   "source": [
    "import mujoco\n",
    "import scipy.optimize\n",
    "from cvxopt import matrix, solvers\n",
    "\n",
    "\n",
    "_MAX_ANGLE_CHANGE = np.deg2rad(45)\n",
    "_DAMPING_COEFF = 1e-12\n",
    "\n",
    "def _wrap_joint_angle(q, q_base):\n",
    "    return q_base + np.mod(q - q_base + np.pi, 2 * np.pi) - np.pi\n",
    "\n",
    "\n",
    "class KinematicsSolver:\n",
    "    \"\"\"Solves forward and inverse kinematics for the Kinova arm.\"\"\"\n",
    "\n",
    "    def __init__(self, ee_offset=0.0):\n",
    "        self.model = mujoco.MjModel.from_xml_path('/Users/vertix/Documents/positronic/positronic/drivers/roboarm/kinova/gen3.xml')\n",
    "        self.data = mujoco.MjData(self.model)\n",
    "        self.model.body_gravcomp[:] = 1.0\n",
    "\n",
    "        # Cache references\n",
    "        # self.qpos0 = self.model.key('retract').qpos  # TODO: Is it good for IK null space?\n",
    "        self.qpos0 = np.zeros(7) # TODO: Is it good for IK null space?\n",
    "        self.site_id = self.model.site('pinch_site').id\n",
    "        self.site_pos = self.data.site(self.site_id).xpos\n",
    "        self.site_mat = self.data.site(self.site_id).xmat\n",
    "\n",
    "        # Add end effector offset for gripper\n",
    "        # 0.061525 comes from the Kinova URDF\n",
    "        self.model.site(self.site_id).pos = np.array([0.0, 0.0, -0.061525 - ee_offset])\n",
    "\n",
    "        # Preallocate arrays\n",
    "        self.err = np.empty(6)\n",
    "        self.err_pos, self.err_rot = self.err[:3], self.err[3:]\n",
    "        self.site_quat = np.empty(4)\n",
    "        self.site_quat_inv = np.empty(4)\n",
    "        self.err_quat = np.empty(4)\n",
    "        self.jac = np.empty((6, self.model.nv))\n",
    "        self.jac_pos, self.jac_rot = self.jac[:3], self.jac[3:]\n",
    "        self.damping = _DAMPING_COEFF * np.eye(6)\n",
    "        self.eye = np.eye(self.model.nv)\n",
    "\n",
    "        limits = self.model.jnt_range[:self.model.nq]\n",
    "        self.joint_limits_lower, self.joint_limits_upper = limits[:, 0], limits[:, 1]\n",
    "        self.joint_limits_lower = np.where(self.joint_limits_lower == 0, -100 * np.pi, self.joint_limits_lower)\n",
    "        self.joint_limits_upper = np.where(self.joint_limits_upper == 0, 100 * np.pi, self.joint_limits_upper)\n",
    "\n",
    "    def forward(self, qpos):\n",
    "        self.data.qpos = qpos\n",
    "        mujoco.mj_kinematics(self.model, self.data)\n",
    "        mujoco.mj_comPos(self.model, self.data)\n",
    "\n",
    "        pos = self.data.site(self.site_id).xpos.copy()\n",
    "        mat = self.data.site(self.site_id).xmat.copy()\n",
    "        quat = np.empty(4)\n",
    "        mujoco.mju_mat2Quat(quat, mat)\n",
    "        return geom.Transform3D(pos, geom.Rotation.from_quat(quat))\n",
    "\n",
    "    def inverse(self, pos: geom.Transform3D, qpos0: np.ndarray, max_iters: int = 20, err_thresh: float = 1e-4, clip_joints: bool = True):\n",
    "        self.data.qpos = qpos0\n",
    "        qpos0_err = np.zeros(self.model.nv)\n",
    "        last_update = np.zeros(self.model.nv)\n",
    "        last_null_update = np.zeros(self.model.nv)\n",
    "\n",
    "        iter = 0\n",
    "        for i in range(max_iters):\n",
    "            mujoco.mj_kinematics(self.model, self.data)\n",
    "            mujoco.mj_comPos(self.model, self.data)\n",
    "\n",
    "            # Translational error\n",
    "            self.err_pos[:] = pos.translation - self.site_pos\n",
    "\n",
    "            # Rotational error\n",
    "            mujoco.mju_mat2Quat(self.site_quat, self.site_mat)\n",
    "            mujoco.mju_negQuat(self.site_quat_inv, self.site_quat)\n",
    "            mujoco.mju_mulQuat(self.err_quat, pos.rotation.as_quat, self.site_quat_inv)\n",
    "            mujoco.mju_quat2Vel(self.err_rot, self.err_quat, 1.0)\n",
    "\n",
    "            if np.linalg.norm(self.err) < err_thresh:\n",
    "                break\n",
    "\n",
    "            mujoco.mj_jacSite(self.model, self.data, self.jac_pos, self.jac_rot, self.site_id)\n",
    "            update = self.jac.T @ np.linalg.solve(self.jac @ self.jac.T + self.damping, self.err)\n",
    "            last_update += update.copy()\n",
    "            qpos0_err = np.mod(self.qpos0 - self.data.qpos + np.pi, 2 * np.pi) - np.pi\n",
    "            # qpos0_err[:3] = 0.0\n",
    "            # qpos0_err[4:] = 0.0\n",
    "            # qpos0_err *= 10\n",
    "            null_update = (self.eye -\n",
    "                           (self.jac.T @ np.linalg.pinv(self.jac @ self.jac.T + self.damping)) @ self.jac) @ qpos0_err\n",
    "            last_null_update += null_update.copy()\n",
    "\n",
    "            update += null_update\n",
    "\n",
    "            # Enforce max angle change\n",
    "            update_max = np.abs(update).max()\n",
    "            if update_max > _MAX_ANGLE_CHANGE:\n",
    "                update *= _MAX_ANGLE_CHANGE / update_max\n",
    "\n",
    "            # Apply update\n",
    "            mujoco.mj_integratePos(self.model, self.data.qpos, update, 1)\n",
    "            if clip_joints:\n",
    "                self.data.qpos[:] = np.clip(self.data.qpos, self.low, self.high)\n",
    "\n",
    "            iter += 1\n",
    "\n",
    "        rr.log('ik/iter', rr.Scalars(iter))\n",
    "        rr.log('ik/err', rr.Scalars(np.linalg.norm(self.err)))\n",
    "        rr.log('ik/err/pos', rr.Scalars(np.linalg.norm(self.err_pos)))\n",
    "        rr.log('ik/err/rot', rr.Scalars(np.linalg.norm(self.err_rot)))\n",
    "        rr.log('ik/qpos0_err', rr.Scalars(qpos0_err))\n",
    "        rr.log('ik/updates/main', rr.Scalars(last_update))\n",
    "        rr.log('ik/updates/null', rr.Scalars(last_null_update))\n",
    "\n",
    "        return self.data.qpos.copy()\n",
    "\n",
    "    def inverse_limits(self, pos: geom.Transform3D, qpos0: np.ndarray, max_iters: int = 20, err_thresh: float = 1e-4):\n",
    "        solvers.options['show_progress'] = False\n",
    "        self.data.qpos = qpos0\n",
    "\n",
    "        iter = 0\n",
    "        for i in range(max_iters):\n",
    "            mujoco.mj_kinematics(self.model, self.data)\n",
    "            mujoco.mj_comPos(self.model, self.data)\n",
    "\n",
    "            # Translational error\n",
    "            self.err_pos[:] = pos.translation - self.site_pos\n",
    "\n",
    "            # Rotational error\n",
    "            mujoco.mju_mat2Quat(self.site_quat, self.site_mat)\n",
    "            mujoco.mju_negQuat(self.site_quat_inv, self.site_quat)\n",
    "            mujoco.mju_mulQuat(self.err_quat, pos.rotation.as_quat, self.site_quat_inv)\n",
    "            mujoco.mju_quat2Vel(self.err_rot, self.err_quat, 1.0)\n",
    "\n",
    "            if np.linalg.norm(self.err) < err_thresh:\n",
    "                break\n",
    "\n",
    "            # Get Jacobian\n",
    "            mujoco.mj_jacSite(self.model, self.data, self.jac_pos, self.jac_rot, self.site_id)\n",
    "\n",
    "            # Setup QP problem\n",
    "            # min_x (1/2) x^T P x + q^T x\n",
    "            # s.t. G x <= h\n",
    "            #      A x = b\n",
    "\n",
    "            # Objective: min ||J·Δq - e||² + α||Δq - (q₀ - q)||²\n",
    "            # where α is a small weight for the null space objective\n",
    "            alpha = 1e-9\n",
    "            n = self.model.nv\n",
    "\n",
    "            # P = J^T J + α I\n",
    "            P = self.jac.T @ self.jac + alpha * np.eye(n)\n",
    "            P = matrix(P)\n",
    "\n",
    "            # q = -J^T e - α (q₀ - q)\n",
    "            qpos0_err = np.mod(self.qpos0 - self.data.qpos + np.pi, 2 * np.pi) - np.pi\n",
    "            q = -self.jac.T @ self.err - alpha * qpos0_err\n",
    "            q = matrix(q)\n",
    "\n",
    "            # Joint limit constraints: lb - q <= Δq <= ub - q\n",
    "            # Rewrite as:\n",
    "            # Δq <= ub - q\n",
    "            # -Δq <= q - lb\n",
    "\n",
    "            # G = [I; -I]\n",
    "            G = np.vstack([np.eye(n), -np.eye(n)])\n",
    "            G = matrix(G)\n",
    "\n",
    "            # h = [ub - q; q - lb]\n",
    "            h_upper = self.joint_limits_upper - self.data.qpos\n",
    "            h_lower = self.data.qpos - self.joint_limits_lower\n",
    "            h = np.concatenate([h_upper, h_lower])\n",
    "            h = matrix(h)\n",
    "\n",
    "            # No equality constraints\n",
    "            A = matrix(0.0, (0, n))\n",
    "            b = matrix(0.0, (0, 1))\n",
    "\n",
    "            solution = solvers.qp(P, q, G, h, A, b)\n",
    "            update = np.array(solution['x']).flatten()\n",
    "            # else:\n",
    "            #     # If QP fails, use a small damped least squares step as fallback\n",
    "            #     damping = _DAMPING_COEFF * 10 * np.eye(6)\n",
    "            #     update = self.jac.T @ np.linalg.solve(self.jac @ self.jac.T + damping, self.err)\n",
    "            #     update_max = np.abs(update).max()\n",
    "            #     if update_max > _MAX_ANGLE_CHANGE * 0.5:\n",
    "            #         update *= (_MAX_ANGLE_CHANGE * 0.5) / update_max\n",
    "\n",
    "            mujoco.mj_integratePos(self.model, self.data.qpos, update, 1.0)\n",
    "\n",
    "            iter += 1\n",
    "\n",
    "        rr.log('ik/iter', rr.Scalars(iter))\n",
    "        rr.log('ik/err', rr.Scalars(np.linalg.norm(self.err)))\n",
    "        rr.log('ik/err/pos', rr.Scalars(np.linalg.norm(self.err_pos)))\n",
    "        rr.log('ik/err/rot', rr.Scalars(np.linalg.norm(self.err_rot)))\n",
    "        return self.data.qpos.copy()\n"
   ]
  },
  {
   "cell_type": "code",
   "execution_count": 101,
   "metadata": {},
   "outputs": [
    {
     "data": {
      "text/plain": [
       "'0.23.1'"
      ]
     },
     "execution_count": 101,
     "metadata": {},
     "output_type": "execute_result"
    }
   ],
   "source": [
    "import rerun as rr\n",
    "rr.__version__"
   ]
  },
  {
   "cell_type": "code",
   "execution_count": 102,
   "metadata": {},
   "outputs": [],
   "source": [
    "import math\n",
    "from ruckig import InputParameter, OutputParameter, Result, Ruckig\n",
    "import pinocchio as pin\n",
    "\n",
    "K_r = np.diag([0.3, 0.3, 0.3, 0.3, 0.18, 0.18, 0.18])\n",
    "K_l = np.diag([75.0, 75.0, 75.0, 75.0, 40.0, 40.0, 40.0])\n",
    "K_lp = np.diag([5.0, 5.0, 5.0, 5.0, 4.0, 4.0, 4.0])\n",
    "K_p = np.diag([100.0, 100.0, 100.0, 100.0, 50.0, 50.0, 50.0])\n",
    "K_d = np.diag([3.0, 3.0, 3.0, 3.0, 2.0, 2.0, 2.0])\n",
    "K_r_inv = np.linalg.inv(K_r)\n",
    "K_r_K_l = K_r @ K_l\n",
    "_DT = 0.001\n",
    "\n",
    "class JointCompliantController:\n",
    "    \"\"\"Implements compliant joint control for the Kinova arm.\"\"\"\n",
    "\n",
    "    class LowPassFilter:\n",
    "        \"\"\"Simple low-pass filter implementation.\"\"\"\n",
    "\n",
    "        def __init__(self, alpha, initial_value):\n",
    "            assert 0 < alpha <= 1, 'Alpha must be between 0 and 1'\n",
    "            self.alpha = alpha\n",
    "            self.y = initial_value\n",
    "\n",
    "        def filter(self, x):\n",
    "            self.y = self.alpha * x + (1 - self.alpha) * self.y\n",
    "            return self.y\n",
    "\n",
    "    def __init__(self, actuator_count, relative_dynamics_factor=0.5):\n",
    "        self.q_s = None\n",
    "        self.q_d = None\n",
    "        self.dq_d = None\n",
    "        self.q_n = None\n",
    "        self.dq_n = None\n",
    "        self.tau_filter = None\n",
    "\n",
    "        self.actuator_count = actuator_count\n",
    "        self.otg = None\n",
    "        self.otg_inp = None\n",
    "        self.otg_out = None\n",
    "        self.otg_res = None\n",
    "        self.relative_dynamics_factor = relative_dynamics_factor\n",
    "\n",
    "        self.target_qpos = None\n",
    "\n",
    "        # Initialize pinocchio model and data\n",
    "        self.model = pin.buildModelFromUrdf('/Users/vertix/Documents/positronic/positronic/drivers/roboarm/kinova/model.urdf')\n",
    "        self.data = self.model.createData()\n",
    "        self._q_pin = np.zeros(11)\n",
    "\n",
    "    def set_target_qpos(self, qpos):\n",
    "        self.target_qpos = qpos\n",
    "\n",
    "    @property\n",
    "    def finished(self):\n",
    "        return self.otg_res == Result.Finished\n",
    "\n",
    "    def gravity(self, q):\n",
    "        q_pin = self._q_pin  # Reuse pre-allocated q_pin\n",
    "        q_pin[0], q_pin[1], q_pin[2] = math.cos(q[0]), math.sin(q[0]), q[1]\n",
    "        q_pin[3], q_pin[4], q_pin[5] = math.cos(q[2]), math.sin(q[2]), q[3]\n",
    "        q_pin[6], q_pin[7], q_pin[8] = math.cos(q[4]), math.sin(q[4]), q[5]\n",
    "        q_pin[9], q_pin[10] = math.cos(q[6]), math.sin(q[6])\n",
    "        return pin.computeGeneralizedGravity(self.model, self.data, q_pin)\n",
    "\n",
    "    def compute_torque(self, q, dq, tau):\n",
    "        gravity = self.gravity(q)\n",
    "\n",
    "        # Initialize controller state if needed\n",
    "        if self.q_s is None:\n",
    "            self.q_s = q.copy()\n",
    "            self.q_d = q.copy()\n",
    "            self.dq_d = np.zeros_like(q)\n",
    "            self.q_n = q.copy()\n",
    "            self.dq_n = dq.copy()\n",
    "            self.tau_filter = JointCompliantController.LowPassFilter(0.01, tau.copy())\n",
    "\n",
    "            self.otg = Ruckig(self.actuator_count, _DT)\n",
    "            self.otg_inp = InputParameter(self.actuator_count)\n",
    "            self.otg_out = OutputParameter(self.actuator_count)\n",
    "            self.otg_inp.max_velocity = (4 * [math.radians(80 * self.relative_dynamics_factor)] +\n",
    "                                         3 * [math.radians(140 * self.relative_dynamics_factor)])\n",
    "            self.otg_inp.max_acceleration = (4 * [math.radians(240 * self.relative_dynamics_factor)] +\n",
    "                                             3 * [math.radians(450 * self.relative_dynamics_factor)])\n",
    "            self.otg_inp.current_position = q.copy()\n",
    "            self.otg_inp.current_velocity = dq.copy()\n",
    "            self.otg_inp.target_position = q.copy()\n",
    "            self.otg_inp.target_velocity = np.zeros(self.actuator_count)\n",
    "            self.otg_res = Result.Finished\n",
    "\n",
    "        self.q_s = _wrap_joint_angle(q, self.q_s)\n",
    "        dq_s = dq.copy()  # TODO: It seems that we don't need copy here\n",
    "        tau_s_f = self.tau_filter.filter(tau)\n",
    "\n",
    "        if self.target_qpos is not None:\n",
    "            qpos = _wrap_joint_angle(self.target_qpos, self.q_s)\n",
    "            self.otg_inp.target_position = qpos\n",
    "            self.otg_res = Result.Working\n",
    "\n",
    "            self.target_qpos = None\n",
    "\n",
    "        if self.otg_res == Result.Working:\n",
    "            self.otg_res = self.otg.update(self.otg_inp, self.otg_out)\n",
    "            self.otg_out.pass_to_input(self.otg_inp)\n",
    "            self.q_d[:] = self.otg_out.new_position\n",
    "            self.dq_d[:] = self.otg_out.new_velocity\n",
    "\n",
    "        tau_task = -K_p @ (self.q_n - self.q_d) - K_d @ (self.dq_n - self.dq_d) + gravity\n",
    "\n",
    "        # Nominal motor plant\n",
    "        ddq_n = K_r_inv @ (tau_task - tau_s_f)\n",
    "        self.dq_n += ddq_n * _DT\n",
    "        self.q_n += self.dq_n * _DT\n",
    "\n",
    "        tau_f = K_r_K_l @ ((self.dq_n - dq_s) + K_lp @ (self.q_n - self.q_s))  # Nominal friction\n",
    "\n",
    "        return tau_task + tau_f"
   ]
  },
  {
   "cell_type": "markdown",
   "metadata": {},
   "source": [
    "---"
   ]
  },
  {
   "cell_type": "code",
   "execution_count": 69,
   "metadata": {},
   "outputs": [],
   "source": [
    "import pickle\n",
    "with open('pos_data.pkl', 'rb') as f:\n",
    "    pos = pickle.load(f)"
   ]
  },
  {
   "cell_type": "code",
   "execution_count": 108,
   "metadata": {},
   "outputs": [],
   "source": [
    "# q_start = np.array([0.0, -0.34906585, 3.14159265, -2, 0.0, 0, 1.57079633])\n",
    "# q_start = np.array([-0.7, -0, 0.5, -1.5, 0.0, -0.5, 1.57079633])\n",
    "\n",
    "torque_constant = np.array([11.0, 11.0, 11.0, 11.0, 7.6, 7.6, 7.6])\n",
    "current_limit_max = np.array([10.0, 10.0, 10.0, 10.0, 6.0, 6.0, 6.0])\n",
    "tau_limit = torque_constant * current_limit_max"
   ]
  },
  {
   "cell_type": "code",
   "execution_count": 118,
   "metadata": {},
   "outputs": [],
   "source": [
    "model = mujoco.MjModel.from_xml_path('/Users/vertix/Documents/positronic/positronic/drivers/roboarm/kinova/gen3.xml')"
   ]
  },
  {
   "cell_type": "code",
   "execution_count": 126,
   "metadata": {},
   "outputs": [],
   "source": [
    "solver, controller = KinematicsSolver(), JointCompliantController(7)\n",
    "data = mujoco.MjData(model)"
   ]
  },
  {
   "cell_type": "code",
   "execution_count": 137,
   "metadata": {},
   "outputs": [
    {
     "data": {
      "text/plain": [
       "(array([ 0.40737035,  0.46256207,  0.26428724, -1.16393316, -1.64431347,\n",
       "        -1.44856751]),\n",
       " np.float64(2.57033403424451))"
      ]
     },
     "execution_count": 137,
     "metadata": {},
     "output_type": "execute_result"
    }
   ],
   "source": [
    "res = solver.inverse_limits(pos[0][1], q_start, max_iters=20)\n",
    "solver.err, np.linalg.norm(solver.err)"
   ]
  },
  {
   "cell_type": "code",
   "execution_count": 138,
   "metadata": {},
   "outputs": [
    {
     "data": {
      "text/plain": [
       "(array([-0.000254  ,  0.0023085 , -0.00237828, -0.0090043 ,  0.00077847,\n",
       "         0.00063909]),\n",
       " np.float64(0.009650994780003027))"
      ]
     },
     "execution_count": 138,
     "metadata": {},
     "output_type": "execute_result"
    }
   ],
   "source": [
    "res = solver.inverse_limits(pos[0][1], q_start, max_iters=100)\n",
    "solver.err, np.linalg.norm(solver.err)"
   ]
  },
  {
   "cell_type": "code",
   "execution_count": 132,
   "metadata": {},
   "outputs": [
    {
     "data": {
      "text/plain": [
       "(Transform3D(t=[0.363 0.312 0.599], q=[0.214 0.373 0.799 0.421]),\n",
       " Transform3D(t=[0.363 0.312 0.599], q=[0.214 0.373 0.799 0.421]))"
      ]
     },
     "execution_count": 132,
     "metadata": {},
     "output_type": "execute_result"
    }
   ],
   "source": [
    "target_pos, pos[2][1]"
   ]
  },
  {
   "cell_type": "code",
   "execution_count": 136,
   "metadata": {},
   "outputs": [
    {
     "data": {
      "text/plain": [
       "(array([-0.000254  ,  0.0023085 , -0.00237828, -0.0090043 ,  0.00077847,\n",
       "         0.00063909]),\n",
       " np.float64(0.009650994780003027))"
      ]
     },
     "execution_count": 136,
     "metadata": {},
     "output_type": "execute_result"
    }
   ],
   "source": [
    "solver.err, np.linalg.norm(solver.err)"
   ]
  },
  {
   "cell_type": "code",
   "execution_count": 127,
   "metadata": {},
   "outputs": [
    {
     "name": "stderr",
     "output_type": "stream",
     "text": [
      "/var/folders/_9/qtzgq1616qzb3mh1ly0jkf5h0000gn/T/ipykernel_23741/2121328819.py:30: DeprecationWarning: Use `set_time(timestamp=seconds)` or `set_time(duration=seconds)` instead.\n",
      "    See: https://www.rerun.io/docs/reference/migration/migration-0-23 for more details.\n",
      "  rr.set_time_seconds('sim_time', data.time)\n"
     ]
    }
   ],
   "source": [
    "rr.init('notebook_zero')\n",
    "rr.save('notebook.rrd')\n",
    "# rr.notebook_show(width=1200, height=600)\n",
    "\n",
    "renderer = mujoco.Renderer(model, height=480, width=640)\n",
    "renderer.update_scene(data, camera='viewer')\n",
    "\n",
    "tau = controller.gravity(q_start)\n",
    "data.qpos = q_start\n",
    "data.ctrl[:] = tau\n",
    "mujoco.mj_forward(model, data)\n",
    "\n",
    "tau_filter = JointCompliantController.LowPassFilter(0.1, tau)\n",
    "q, dq = data.qpos, data.qvel\n",
    "\n",
    "step, next_command = 0, 0\n",
    "start_time = pos[0][0] - 3 * 10 ** 3\n",
    "\n",
    "# rr.log('pos/target', rr.Points3D(np.array([p.translation for _, p in pos])), static=True)\n",
    "rr.log('ik/qpos', rr.SeriesPoints(markers=\"circle\", marker_sizes=1))\n",
    "rr.log('ik/updates/main', rr.SeriesPoints(markers=\"cross\", marker_sizes=1.0))\n",
    "rr.log('ik/updates/null', rr.SeriesPoints(markers=\"cross\", marker_sizes=1.0))\n",
    "\n",
    "while data.time < 60 and next_command < len(pos):\n",
    "    tau = controller.compute_torque(q, dq, tau)\n",
    "    np.clip(tau, -tau_limit, tau_limit, out=tau)\n",
    "    data.ctrl[:] = tau_filter.filter(tau)\n",
    "    mujoco.mj_step(model, data)\n",
    "    q, dq, tau = data.qpos, data.qvel, data.ctrl\n",
    "    rr.set_time_seconds('sim_time', data.time)\n",
    "\n",
    "    if start_time + data.time * 10 ** 3 > pos[next_command][0]:\n",
    "        rr.log('pos/target', rr.Points3D(np.array([p.translation for _, p in pos[:next_command + 1]])))\n",
    "        # q_ik = solver.inverse(pos[next_command][1], q, max_iters=10000)\n",
    "        q_ik = solver.inverse_limits(pos[next_command][1], q, max_iters=100)\n",
    "        rr.log('ik/qpos', rr.Scalars(q_ik))\n",
    "        rr.log('pos/cur_target', rr.Points3D(pos[next_command][1].translation, colors=[255, 255, 255]))\n",
    "        controller.set_target_qpos(q_ik)\n",
    "        next_command += 1\n",
    "\n",
    "    if step % 100 == 0:\n",
    "        rr.log('state/qpos', rr.Scalars(q))\n",
    "        rr.log('state/qvel', rr.Scalars(dq))\n",
    "        rr.log('state/tau', rr.Scalars(tau))\n",
    "        renderer.update_scene(data, camera='viewer')\n",
    "        rr.log('render', rr.Image(renderer.render()).compress())\n",
    "    step += 1"
   ]
  },
  {
   "cell_type": "markdown",
   "metadata": {},
   "source": [
    "---\n",
    "Research IK solution for the last \"blocking\" joint"
   ]
  },
  {
   "cell_type": "code",
   "execution_count": 133,
   "metadata": {},
   "outputs": [],
   "source": [
    "ik_solutions = []\n",
    "target = pos[-1][1]\n",
    "\n",
    "low, high = solver.model.jnt_range[:solver.model.nq, 0], solver.model.jnt_range[:solver.model.nq, 1]\n",
    "low = np.where(low == 0, -np.pi, low)\n",
    "high = np.where(high == 0, np.pi, high)\n",
    "\n",
    "for i in range(1000):\n",
    "    q = np.random.uniform(low, high)\n",
    "    q_ik = solver.inverse_limits(target, q)\n",
    "    err = np.linalg.norm(solver.forward(q_ik).translation - target.translation)\n",
    "    ik_solutions.append((q_ik, err))"
   ]
  },
  {
   "cell_type": "code",
   "execution_count": 134,
   "metadata": {},
   "outputs": [
    {
     "data": {
      "application/vnd.jupyter.widget-view+json": {
       "model_id": "5fa9b644096d4f859f80f5b27388f8cb",
       "version_major": 2,
       "version_minor": 1
      },
      "text/plain": [
       "Viewer()"
      ]
     },
     "metadata": {},
     "output_type": "display_data"
    },
    {
     "name": "stderr",
     "output_type": "stream",
     "text": [
      "/var/folders/_9/qtzgq1616qzb3mh1ly0jkf5h0000gn/T/ipykernel_24087/881436006.py:10: DeprecationWarning: Use `set_time(sequence=…)` instead.\n",
      "    See: https://www.rerun.io/docs/reference/migration/migration-0-23 for more details.\n",
      "  rr.set_time_sequence('ik_solutions', i)\n"
     ]
    }
   ],
   "source": [
    "rr.init('ik_solutions')\n",
    "rr.notebook_show()\n",
    "scatter = rr.Points2D(\n",
    "    [[np.abs(solution[3]), err] for solution, err in ik_solutions],\n",
    "    colors=[255, 255, 255],\n",
    ")\n",
    "rr.log('ik_solutions/scatter', scatter, static=True)\n",
    "\n",
    "for i, (solution, err) in enumerate(sorted(ik_solutions, key=lambda x: np.abs(x[0][3]))):\n",
    "    rr.set_time_sequence('ik_solutions', i)\n",
    "    rr.log\n",
    "    rr.log('ik_solutions/qpos', rr.Scalars(np.abs(solution[3])))"
   ]
  },
  {
   "cell_type": "code",
   "execution_count": 70,
   "metadata": {},
   "outputs": [
    {
     "data": {
      "text/plain": [
       "(array([ 1.42413463,  0.46997491, -6.83382143, -2.6646526 , -2.5125731 ,\n",
       "        -0.52535652, -2.96877966]),\n",
       " np.float64(0.08316515231369216))"
      ]
     },
     "execution_count": 70,
     "metadata": {},
     "output_type": "execute_result"
    }
   ],
   "source": [
    "sorted(ik_solutions, key=lambda x: np.abs(x[0][3]))[0]"
   ]
  },
  {
   "cell_type": "code",
   "execution_count": 68,
   "metadata": {},
   "outputs": [
    {
     "data": {
      "text/plain": [
       "array([3.14159265, 2.24      , 3.14159265, 2.57      , 3.14159265,\n",
       "       2.09      , 3.14159265])"
      ]
     },
     "execution_count": 68,
     "metadata": {},
     "output_type": "execute_result"
    }
   ],
   "source": [
    "high"
   ]
  },
  {
   "cell_type": "code",
   "execution_count": null,
   "metadata": {},
   "outputs": [],
   "source": []
  }
 ],
 "metadata": {
  "kernelspec": {
   "display_name": ".venv",
   "language": "python",
   "name": "python3"
  },
  "language_info": {
   "codemirror_mode": {
    "name": "ipython",
    "version": 3
   },
   "file_extension": ".py",
   "mimetype": "text/x-python",
   "name": "python",
   "nbconvert_exporter": "python",
   "pygments_lexer": "ipython3",
   "version": "3.11.6"
  }
 },
 "nbformat": 4,
 "nbformat_minor": 2
}
