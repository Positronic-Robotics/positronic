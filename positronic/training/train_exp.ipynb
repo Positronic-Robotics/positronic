{
 "cells": [
  {
   "cell_type": "code",
   "execution_count": 2,
   "metadata": {},
   "outputs": [],
   "source": [
    "import torch"
   ]
  },
  {
   "cell_type": "code",
   "execution_count": 3,
   "metadata": {},
   "outputs": [
    {
     "name": "stdout",
     "output_type": "stream",
     "text": [
      "041.pt\t054.pt\t067.pt\t080.pt\t093.pt\t106.pt\t119.pt\t132.pt\t145.pt\t158.pt\n",
      "042.pt\t055.pt\t068.pt\t081.pt\t094.pt\t107.pt\t120.pt\t133.pt\t146.pt\t159.pt\n",
      "043.pt\t056.pt\t069.pt\t082.pt\t095.pt\t108.pt\t121.pt\t134.pt\t147.pt\t160.pt\n",
      "044.pt\t057.pt\t070.pt\t083.pt\t096.pt\t109.pt\t122.pt\t135.pt\t148.pt\t161.pt\n",
      "045.pt\t058.pt\t071.pt\t084.pt\t097.pt\t110.pt\t123.pt\t136.pt\t149.pt\t162.pt\n",
      "046.pt\t059.pt\t072.pt\t085.pt\t098.pt\t111.pt\t124.pt\t137.pt\t150.pt\t163.pt\n",
      "047.pt\t060.pt\t073.pt\t086.pt\t099.pt\t112.pt\t125.pt\t138.pt\t151.pt\t164.pt\n",
      "048.pt\t061.pt\t074.pt\t087.pt\t100.pt\t113.pt\t126.pt\t139.pt\t152.pt\t165.pt\n",
      "049.pt\t062.pt\t075.pt\t088.pt\t101.pt\t114.pt\t127.pt\t140.pt\t153.pt\t166.pt\n",
      "050.pt\t063.pt\t076.pt\t089.pt\t102.pt\t115.pt\t128.pt\t141.pt\t154.pt\t167.pt\n",
      "051.pt\t064.pt\t077.pt\t090.pt\t103.pt\t116.pt\t129.pt\t142.pt\t155.pt\n",
      "052.pt\t065.pt\t078.pt\t091.pt\t104.pt\t117.pt\t130.pt\t143.pt\t156.pt\n",
      "053.pt\t066.pt\t079.pt\t092.pt\t105.pt\t118.pt\t131.pt\t144.pt\t157.pt\n"
     ]
    }
   ],
   "source": [
    "!ls ../_dataset/"
   ]
  },
  {
   "cell_type": "code",
   "execution_count": 7,
   "metadata": {},
   "outputs": [],
   "source": [
    "ds_path = '../_dataset/050.pt'"
   ]
  },
  {
   "cell_type": "code",
   "execution_count": 8,
   "metadata": {},
   "outputs": [
    {
     "name": "stderr",
     "output_type": "stream",
     "text": [
      "/tmp/ipykernel_72820/2341027244.py:1: FutureWarning: You are using `torch.load` with `weights_only=False` (the current default value), which uses the default pickle module implicitly. It is possible to construct malicious pickle data which will execute arbitrary code during unpickling (See https://github.com/pytorch/pytorch/blob/main/SECURITY.md#untrusted-models for more details). In a future release, the default value for `weights_only` will be flipped to `True`. This limits the functions that could be executed during unpickling. Arbitrary objects will no longer be allowed to be loaded via this mode unless they are explicitly allowlisted by the user via `torch.serialization.add_safe_globals`. We recommend you start setting `weights_only=True` for any use case where you don't have full control of the loaded file. Please open an issue on GitHub for any issues related to this experimental feature.\n",
      "  dataset = torch.load(ds_path)\n"
     ]
    }
   ],
   "source": [
    "dataset = torch.load(ds_path)"
   ]
  },
  {
   "cell_type": "code",
   "execution_count": 4,
   "metadata": {},
   "outputs": [],
   "source": [
    "rename_mappings = {\n",
    "    'target_robot_position_trans': 'target_robot_position.translation',\n",
    "    'target_robot_position_quat': 'target_robot_position.quaternion',\n",
    "    'robot_position_trans': 'robot_position.translation',\n",
    "    'robot_position_quat': 'robot_position.quaternion'}\n",
    "\n",
    "# for k, v in rename_mappings.items():\n",
    "#     dataset[v] = dataset[k]\n",
    "#     del dataset[k]"
   ]
  },
  {
   "cell_type": "code",
   "execution_count": 5,
   "metadata": {},
   "outputs": [
    {
     "name": "stderr",
     "output_type": "stream",
     "text": [
      "Processing files: 0it [00:00, ?it/s]/tmp/ipykernel_74430/607111838.py:6: FutureWarning: You are using `torch.load` with `weights_only=False` (the current default value), which uses the default pickle module implicitly. It is possible to construct malicious pickle data which will execute arbitrary code during unpickling (See https://github.com/pytorch/pytorch/blob/main/SECURITY.md#untrusted-models for more details). In a future release, the default value for `weights_only` will be flipped to `True`. This limits the functions that could be executed during unpickling. Arbitrary objects will no longer be allowed to be loaded via this mode unless they are explicitly allowlisted by the user via `torch.serialization.add_safe_globals`. We recommend you start setting `weights_only=True` for any use case where you don't have full control of the loaded file. Please open an issue on GitHub for any issues related to this experimental feature.\n",
      "  dataset = torch.load(file_path)\n",
      "Processing files: 127it [02:32,  1.20s/it]\n"
     ]
    }
   ],
   "source": [
    "from pathlib import Path\n",
    "from tqdm import tqdm\n",
    "\n",
    "for file_path in tqdm(Path('../_dataset').iterdir(), desc=\"Processing files\"):\n",
    "    if file_path.is_file():\n",
    "        dataset = torch.load(file_path)\n",
    "        for old_key, new_key in rename_mappings.items():\n",
    "            if old_key in dataset:\n",
    "                dataset[new_key] = dataset.pop(old_key)\n",
    "        torch.save(dataset, file_path)"
   ]
  },
  {
   "cell_type": "code",
   "execution_count": 9,
   "metadata": {},
   "outputs": [
    {
     "name": "stdout",
     "output_type": "stream",
     "text": [
      "image\n",
      "target_robot_position_trans\n",
      "target_robot_position_quat\n",
      "target_grip\n",
      "time\n",
      "delay/image\n",
      "delay/robot\n",
      "delay/target\n",
      "grip\n",
      "ee_force\n",
      "base_force\n",
      "robot_joints\n",
      "robot_position_trans\n",
      "robot_position_quat\n"
     ]
    }
   ],
   "source": [
    "print('\\n'.join(dataset.keys()))"
   ]
  },
  {
   "cell_type": "code",
   "execution_count": 7,
   "metadata": {},
   "outputs": [
    {
     "data": {
      "image/png": "[encoded data removed]",
      "text/plain": [
       "<Figure size 1000x500 with 1 Axes>"
      ]
     },
     "metadata": {},
     "output_type": "display_data"
    }
   ],
   "source": [
    "import matplotlib.pyplot as plt\n",
    "\n",
    "# Extract 'grip' and 'target_grip' features\n",
    "grip = dataset['grip']\n",
    "target_grip = dataset['target_grip']\n",
    "\n",
    "# Create a new figure\n",
    "plt.figure(figsize=(10, 5))\n",
    "\n",
    "# Plot 'grip' feature\n",
    "plt.plot(grip, label='Grip')\n",
    "\n",
    "# Plot 'target_grip' feature\n",
    "plt.plot(target_grip, label='Target Grip')\n",
    "\n",
    "# Add title and labels\n",
    "plt.title('Grip and Target Grip Features')\n",
    "plt.xlabel('Time')\n",
    "plt.ylabel('Value')\n",
    "\n",
    "# Add legend\n",
    "plt.legend()\n",
    "\n",
    "# Show the plot\n",
    "plt.show()\n",
    "\n"
   ]
  },
  {
   "cell_type": "code",
   "execution_count": 9,
   "metadata": {},
   "outputs": [
    {
     "data": {
      "text/plain": [
       "tensor([0.0650, 0.1320, 0.1980, 0.2660, 0.3320, 0.3990, 0.4660, 0.5320, 0.5990,\n",
       "        0.6660], dtype=torch.float64)"
      ]
     },
     "execution_count": 9,
     "metadata": {},
     "output_type": "execute_result"
    }
   ],
   "source": [
    "dataset['time'][:10]"
   ]
  },
  {
   "cell_type": "code",
   "execution_count": 10,
   "metadata": {},
   "outputs": [
    {
     "data": {
      "text/plain": [
       "tensor([[81, 87, 93,  ..., 18, 18, 18],\n",
       "        [76, 85, 81,  ..., 16, 18, 18],\n",
       "        [62, 60, 61,  ..., 19, 18, 18],\n",
       "        ...,\n",
       "        [44, 44, 44,  ..., 11, 11, 11],\n",
       "        [44, 43, 46,  ..., 12, 12, 12],\n",
       "        [45, 45, 45,  ..., 11, 11, 11]], dtype=torch.uint8)"
      ]
     },
     "execution_count": 10,
     "metadata": {},
     "output_type": "execute_result"
    }
   ],
   "source": [
    "dataset['image'][0][:,:,0]"
   ]
  },
  {
   "cell_type": "code",
   "execution_count": 11,
   "metadata": {},
   "outputs": [
    {
     "data": {
      "text/plain": [
       "tensor([0.0660, 0.0320, 0.0980, 0.0660, 0.0320, 0.0990, 0.0660, 0.0320, 0.0990,\n",
       "        0.0650], dtype=torch.float64)"
      ]
     },
     "execution_count": 11,
     "metadata": {},
     "output_type": "execute_result"
    }
   ],
   "source": [
    "dataset['delay/target'][:10]"
   ]
  },
  {
   "cell_type": "code",
   "execution_count": 12,
   "metadata": {},
   "outputs": [
    {
     "data": {
      "text/plain": [
       "tensor([[ 4.6001e-01, -5.5656e-05,  6.9208e-01],\n",
       "        [ 4.6190e-01,  1.2561e-03,  6.9063e-01],\n",
       "        [ 4.6190e-01,  1.2561e-03,  6.9063e-01],\n",
       "        [ 4.6203e-01,  9.1870e-04,  6.9331e-01],\n",
       "        [ 4.6274e-01,  6.3808e-04,  6.9141e-01],\n",
       "        [ 4.6274e-01,  6.3808e-04,  6.9141e-01],\n",
       "        [ 4.6355e-01, -1.9675e-04,  6.8959e-01],\n",
       "        [ 4.6544e-01, -1.1327e-03,  6.8686e-01],\n",
       "        [ 4.6544e-01, -1.1327e-03,  6.8686e-01],\n",
       "        [ 4.6801e-01, -3.4337e-03,  6.8327e-01]], dtype=torch.float64)"
      ]
     },
     "execution_count": 12,
     "metadata": {},
     "output_type": "execute_result"
    }
   ],
   "source": [
    "dataset['target_robot_position_trans'][:10]"
   ]
  },
  {
   "cell_type": "code",
   "execution_count": null,
   "metadata": {},
   "outputs": [],
   "source": []
  }
 ],
 "metadata": {
  "kernelspec": {
   "display_name": "positronic",
   "language": "python",
   "name": "python3"
  },
  "language_info": {
   "codemirror_mode": {
    "name": "ipython",
    "version": 3
   },
   "file_extension": ".py",
   "mimetype": "text/x-python",
   "name": "python",
   "nbconvert_exporter": "python",
   "pygments_lexer": "ipython3",
   "version": "3.11.10"
  }
 },
 "nbformat": 4,
 "nbformat_minor": 2
}
